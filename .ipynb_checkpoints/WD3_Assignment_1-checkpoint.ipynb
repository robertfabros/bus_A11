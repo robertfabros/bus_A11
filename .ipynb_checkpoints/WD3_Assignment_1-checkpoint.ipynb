{
 "cells": [
  {
   "cell_type": "markdown",
   "id": "09458fd2",
   "metadata": {},
   "source": [
    "# Frist Program in Python\n",
    "## 1. Write your first Program Print  \"Hello World !\"\n",
    "## 2. Print the version of Python.  (Note: you can use google!) "
   ]
  },
  {
   "cell_type": "code",
   "execution_count": 1,
   "id": "6569d7c7",
   "metadata": {},
   "outputs": [
    {
     "name": "stdout",
     "output_type": "stream",
     "text": [
      "Hello World!\n"
     ]
    }
   ],
   "source": [
    "print(\"Hello World!\")"
   ]
  },
  {
   "cell_type": "code",
   "execution_count": 17,
   "id": "93a3a103",
   "metadata": {},
   "outputs": [
    {
     "name": "stdout",
     "output_type": "stream",
     "text": [
      "3.12.3 (v3.12.3:f6650f9ad7, Apr  9 2024, 08:18:47) [Clang 13.0.0 (clang-1300.0.29.30)]\n"
     ]
    }
   ],
   "source": [
    "import sys\n",
    "print(sys.version)"
   ]
  },
  {
   "cell_type": "markdown",
   "id": "7bb23398",
   "metadata": {},
   "source": [
    "# Datatypes in Python\n",
    "## 3.Find the datatype of the following values: (Note: use \"type\" built-in function)\n",
    "### 11,    22.23,     \"Hello World\", True"
   ]
  },
  {
   "cell_type": "code",
   "execution_count": 3,
   "id": "0145f9cb",
   "metadata": {},
   "outputs": [
    {
     "name": "stdout",
     "output_type": "stream",
     "text": [
      "<class 'int'>\n"
     ]
    }
   ],
   "source": [
    "print(type(11))"
   ]
  },
  {
   "cell_type": "code",
   "execution_count": 4,
   "id": "c70ac188",
   "metadata": {},
   "outputs": [
    {
     "name": "stdout",
     "output_type": "stream",
     "text": [
      "<class 'float'>\n"
     ]
    }
   ],
   "source": [
    "print(type(22.23))"
   ]
  },
  {
   "cell_type": "code",
   "execution_count": 7,
   "id": "a6c49e25",
   "metadata": {},
   "outputs": [
    {
     "name": "stdout",
     "output_type": "stream",
     "text": [
      "<class 'str'>\n"
     ]
    }
   ],
   "source": [
    "print(type(\"Hello World\"))"
   ]
  },
  {
   "cell_type": "code",
   "execution_count": 6,
   "id": "013d1734",
   "metadata": {},
   "outputs": [
    {
     "name": "stdout",
     "output_type": "stream",
     "text": [
      "<class 'bool'>\n"
     ]
    }
   ],
   "source": [
    "print(type(True)) "
   ]
  },
  {
   "cell_type": "markdown",
   "id": "bf9b2b00-2170-4ccb-b7f8-f24b35423cfd",
   "metadata": {},
   "source": [
    "# Typecast in Python\n",
    "## 4. typecast the above data i.e. 'integer' into 'float' and 'float' into 'int', \n",
    "## 5. typecast 'boolean' \"true, false\" into 'int' and 'float' \n",
    "## 6. typecast 0 1 into boolean and see the results"
   ]
  },
  {
   "cell_type": "code",
   "execution_count": 18,
   "id": "311a28bf",
   "metadata": {},
   "outputs": [
    {
     "name": "stdout",
     "output_type": "stream",
     "text": [
      "11.0\n",
      "22\n"
     ]
    }
   ],
   "source": [
    "f_value = float(11)\n",
    "print(f_value)\n",
    "\n",
    "int_1 = int(22.23)\n",
    "print(int_1)"
   ]
  },
  {
   "cell_type": "code",
   "execution_count": 13,
   "id": "60ad89a3",
   "metadata": {},
   "outputs": [
    {
     "name": "stdout",
     "output_type": "stream",
     "text": [
      "boolean as true, false int: 1 0\n",
      "boolean as true, false float: 1.0 0.0\n"
     ]
    }
   ],
   "source": [
    "print(\"boolean as true, false int:\", int(True), int(False))\n",
    "print(\"boolean as true, false float:\", float(True), float(False))"
   ]
  },
  {
   "cell_type": "code",
   "execution_count": 15,
   "id": "c6cb0e74",
   "metadata": {},
   "outputs": [
    {
     "name": "stdout",
     "output_type": "stream",
     "text": [
      "False\n",
      "True\n"
     ]
    }
   ],
   "source": [
    "print(bool(0))\n",
    "print(bool(1))"
   ]
  },
  {
   "cell_type": "markdown",
   "id": "42219bca",
   "metadata": {},
   "source": [
    "# Variables and Expressions (all mathematical operations can be used)\n",
    "## 7. Declare 2 integer variables and divide them. \n",
    "### Output should be displayed as an integer. (Note: do NOT use typecast)"
   ]
  },
  {
   "cell_type": "code",
   "execution_count": 68,
   "id": "e47cc5cc",
   "metadata": {
    "scrolled": true
   },
   "outputs": [
    {
     "name": "stdout",
     "output_type": "stream",
     "text": [
      "2\n"
     ]
    }
   ],
   "source": [
    "a = 30\n",
    "b = 12\n",
    "\n",
    "result = a // b\n",
    "print(result)\n"
   ]
  },
  {
   "cell_type": "markdown",
   "id": "d5d2cd59",
   "metadata": {},
   "source": [
    "## 8. Find out the System Setting about float type. (information about float)"
   ]
  },
  {
   "cell_type": "code",
   "execution_count": 30,
   "id": "09aedb86",
   "metadata": {},
   "outputs": [
    {
     "name": "stdout",
     "output_type": "stream",
     "text": [
      "Size of float in bytes: 24\n",
      "Minimum float value: -1.7976931348623157e+308\n",
      "Maximum float value: 1.7976931348623157e+308\n",
      "Smallest positive float: 2.2250738585072014e-308\n",
      "Smallest positive normalized float: 2.2250738585072014e-308\n",
      "Float precision in decimal digits: 15\n"
     ]
    }
   ],
   "source": [
    "print(\"Size of float in bytes:\", sys.getsizeof(float()))\n",
    "print(\"Minimum float value:\", -sys.float_info.max)\n",
    "print(\"Maximum float value:\", sys.float_info.max)\n",
    "print(\"Smallest positive float:\", sys.float_info.min)\n",
    "print(\"Smallest positive normalized float:\", sys.float_info.min)\n",
    "print(\"Float precision in decimal digits:\", sys.float_info.dig)\n"
   ]
  },
  {
   "cell_type": "markdown",
   "id": "d50757fb",
   "metadata": {},
   "source": [
    "# Strings\n",
    "## 9. Print the length of the string below.\n",
    "## 10. Print the first 'word' in the string using negative indexing. (Print RRC)\n",
    "## 11. \"Slice\" the string and display \"Polytech\".\n",
    "## 12. Use the concept of \"Stride\" and display \"Polytech\" backwards. (Print \"hcetyloP\")\n",
    "## 13. Change the string into uppercase.\n",
    "## 14. Replace \"Polytech\" with \"Polytechnic\". (Note: use replace function)"
   ]
  },
  {
   "cell_type": "code",
   "execution_count": 19,
   "id": "4daac2e1",
   "metadata": {},
   "outputs": [
    {
     "name": "stdout",
     "output_type": "stream",
     "text": [
      "Length of the string is 28\n",
      "First 'word' using negative indexing: RRC PolytechPolytec\n",
      "Slice the string to display 'Polytech': PolytechPolytechPolytech\n",
      "Reversed 'Polytech' using stride: PhcetyloP\n",
      "Change the string into uppercase.: RRC POLYTECHPOLYTECHPOLYTECH\n",
      "Replace 'Polytech' with 'Polytechnic': RRC PolytechnicPolytechnicPolytechnic\n"
     ]
    }
   ],
   "source": [
    "school = 'RRC Polytech'\n",
    "\n",
    "print(\"Length of the string is\", len(school))\n",
    "print(\"First 'word' using negative indexing:\", school[:-9])\n",
    "print(\"Slice the string to display 'Polytech':\", school[4:])\n",
    "print(\"Reversed 'Polytech' using stride:\", school[12:3:-1])\n",
    "print(\"Change the string into uppercase.:\", school.upper())\n",
    "school_2 = school.replace(\"Polytech\", \"Polytechnic\")\n",
    "print(\"Replace 'Polytech' with 'Polytechnic':\", school_2)"
   ]
  },
  {
   "cell_type": "markdown",
   "id": "6a54ae23",
   "metadata": {},
   "source": [
    "# RegEx in python (google how to import RegEx in python)\n",
    "## 15. Define the search \"pattern\" to search RRC in the above string(school) and display \"Match Found\" or \"Match Not Found\" accordingly using an if else statement.\n"
   ]
  },
  {
   "cell_type": "code",
   "execution_count": 54,
   "id": "f88df01c",
   "metadata": {},
   "outputs": [
    {
     "name": "stdout",
     "output_type": "stream",
     "text": [
      "Match Found\n"
     ]
    }
   ],
   "source": [
    "import re\n",
    "\n",
    "# Defining the pattern to search for\n",
    "pattern = r\"RRC\"\n",
    "\n",
    "# Use the search() function to search for the pattern in the string\n",
    "result = re.search(pattern, school)\n",
    "\n",
    "# Check if a match is found and print accordingly.\n",
    "if result:\n",
    "    print(\"Match Found\")\n",
    "else:\n",
    "    print(\"Match Not Found\")\n"
   ]
  },
  {
   "cell_type": "markdown",
   "id": "d57512f4",
   "metadata": {},
   "source": [
    "# For Loop\n",
    "## 16. Use loops to print out the elements in the list:"
   ]
  },
  {
   "cell_type": "code",
   "execution_count": 57,
   "id": "8ec177cc",
   "metadata": {},
   "outputs": [
    {
     "name": "stdout",
     "output_type": "stream",
     "text": [
      "Please select a colour for your profile theme. Available options are:\n",
      "red\n",
      "green\n",
      "blue\n"
     ]
    }
   ],
   "source": [
    "colours = [\"red\", \"green\", \"blue\"]\n",
    "\n",
    "print(\"Please select a colour for your profile theme. Available options are:\")\n",
    "\n",
    "for colour in colours:\n",
    "    print(colour)\n"
   ]
  },
  {
   "cell_type": "markdown",
   "id": "30865427",
   "metadata": {},
   "source": [
    "# While Loop\n",
    "## 17. Write a while loop to display the values of the Rating stored in the list PlayListRatings. If the score is less than 6, exit the loop.\n",
    "### PlayListRatings = [10, 9.5, 10, 8, 7.5, 5, 10, 10]"
   ]
  },
  {
   "cell_type": "code",
   "execution_count": 62,
   "id": "60f0ef2e",
   "metadata": {},
   "outputs": [
    {
     "name": "stdout",
     "output_type": "stream",
     "text": [
      "10\n",
      "9.5\n",
      "10\n",
      "8\n",
      "7.5\n"
     ]
    }
   ],
   "source": [
    "PlayListRatings = [10, 9.5, 10, 8, 7.5, 5, 10, 10]\n",
    "i = 0\n",
    "rating = PlayListRatings[0]\n",
    "# write while loop logic to achieve above requirement\n",
    "while i < len(PlayListRatings):\n",
    "    rating = PlayListRatings[i] \n",
    "    if rating < 6:\n",
    "        break \n",
    "    print(rating) \n",
    "    i += 1 \n"
   ]
  },
  {
   "cell_type": "markdown",
   "id": "dc3cae39",
   "metadata": {},
   "source": [
    "# Functions\n",
    "## 18. Write a function that calculates and returns the square of a parameter. Below is the example of how to declare a function\n",
    "### def function_name(parameter_name):"
   ]
  },
  {
   "cell_type": "code",
   "execution_count": 64,
   "id": "8882f858",
   "metadata": {},
   "outputs": [
    {
     "name": "stdout",
     "output_type": "stream",
     "text": [
      "529\n"
     ]
    }
   ],
   "source": [
    "def square(number):\n",
    "    return number ** 2\n",
    "\n",
    "result = square(23)\n",
    "print(result)\n",
    "\n"
   ]
  },
  {
   "cell_type": "markdown",
   "id": "7b263cd0",
   "metadata": {},
   "source": [
    "# Bonus\n",
    "## 19. Demonstrate something cool you learned to do with Python while completing this worksheet, and write about why you thought it was cool in a comment."
   ]
  },
  {
   "cell_type": "code",
   "execution_count": null,
   "id": "04c26443-5120-4b2a-8615-e6b78ac8df63",
   "metadata": {},
   "outputs": [],
   "source": [
    "# a = 30\n",
    "# b = 12\n",
    "\n",
    "# result = a // b\n",
    "# print(result)\n",
    "# This code is cool for me because I can just use \"/\" if I want float and \"//\" if I want a whole number integer when dividing numbers."
   ]
  },
  {
   "cell_type": "code",
   "execution_count": null,
   "id": "1bf80ece-f359-440b-b17f-5382e8cc22ab",
   "metadata": {},
   "outputs": [],
   "source": []
  }
 ],
 "metadata": {
  "kernelspec": {
   "display_name": "Python 3 (ipykernel)",
   "language": "python",
   "name": "python3"
  },
  "language_info": {
   "codemirror_mode": {
    "name": "ipython",
    "version": 3
   },
   "file_extension": ".py",
   "mimetype": "text/x-python",
   "name": "python",
   "nbconvert_exporter": "python",
   "pygments_lexer": "ipython3",
   "version": "3.12.3"
  }
 },
 "nbformat": 4,
 "nbformat_minor": 5
}
